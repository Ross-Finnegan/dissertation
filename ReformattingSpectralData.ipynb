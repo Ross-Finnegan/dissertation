{
 "cells": [
  {
   "cell_type": "markdown",
   "metadata": {},
   "source": [
    "## Reformatting MIR Spectral Data\n"
   ]
  },
  {
   "cell_type": "markdown",
   "metadata": {},
   "source": [
    "### Setup"
   ]
  },
  {
   "cell_type": "code",
   "execution_count": null,
   "metadata": {},
   "outputs": [],
   "source": [
    "import numpy as np; print('numpy Version:', np.__version__)\n",
    "import pandas as pd; print('pandas Version:', pd.__version__)"
   ]
  },
  {
   "cell_type": "markdown",
   "metadata": {},
   "source": [
    "### Reading Dataset"
   ]
  },
  {
   "cell_type": "code",
   "execution_count": null,
   "metadata": {},
   "outputs": [],
   "source": [
    "file = 'SQL_extracted datasets/FINALlanghill_mir_extractready_revised_7pm_mir_aligned_20210711.csv'\n",
    "data_2 = pd.read_csv('SQL_extracted datasets/Formatted_data/ZERODAYS_langhill_mir_extractready2_0am_mir_aligned_20210727.csv', sep=',')\n",
    "\n",
    "data_ = pd.read_csv(file, sep=',')\n",
    "print(data_.shape) #Shape is 417657 rows and 18 columns\n",
    "\n",
    "#Remove all rows for which there was no aligned spectral data\n",
    "data_.dropna(subset=['spectra'], inplace=True)\n",
    "print(data_.shape) \n",
    "\n",
    "data_['weeklyave_FI'].describe() \n",
    "\n",
    "#Break spectra from long format into individual columns\n",
    "spectra_ = data_['spectra'].str.split(',', n=1060, expand=True)\n",
    "print(spectra_.shape)\n",
    "\n",
    "#Rename each spectral wavepoint and append to the data table\n",
    "for i in range(1060):\n",
    "      data_['wp%s' % (i+1)] = spectra_[i] \n",
    "print(data_.shape)\n",
    "\n",
    "#Drop the spectra column as it is now represented in the other columns\n",
    "data_.drop(columns=['spectra'], inplace=True)\n",
    "print(data_.shape)\n",
    "\n",
    "#Data is now read in and correctly aligned\n",
    "data_.head() "
   ]
  },
  {
   "cell_type": "markdown",
   "metadata": {},
   "source": [
    "### Data Formatting"
   ]
  },
  {
   "cell_type": "code",
   "execution_count": null,
   "metadata": {},
   "outputs": [],
   "source": [
    "#Reformatting all wavepoint columns\n",
    "#Formatting as float32 - 32 is preferred for GPU\n",
    "\n",
    "data_.iloc[:, 14:1704] = data_.iloc[:, 14:1074].apply(lambda x: x.astype('float32')) #Long runtime\n"
   ]
  },
  {
   "cell_type": "markdown",
   "metadata": {},
   "source": [
    "### Data Cleaning\n",
    "Errors common in Spectral Data <br>\n",
    "Causes: - Measurement or input error - Data corruption - True outlier observation<br>\n",
    "Methods - Standard Deviation (For normally distributed traits) - IQR\n"
   ]
  },
  {
   "cell_type": "code",
   "execution_count": null,
   "metadata": {},
   "outputs": [],
   "source": [
    "#Outlier Removal\n",
    "from statsmodels.graphics.gofplots import qqplot\n",
    "\n",
    "qqplot(data_['FI'], line ='s')\n",
    "from scipy.stats import shapiro\n",
    "# normality test\n",
    "stat, p = shapiro(data_['FI'])\n",
    "print('Statistics=%.3f, p=%.3f' % (stat, p))\n",
    "# interpret\n",
    "alpha = 0.05\n",
    "if p > alpha:\n",
    "    print('Sample looks Gaussian (fail to reject H0)')\n",
    "else:\n",
    "    print('Sample does not look Gaussian (reject H0)')\n",
    "# D'Agostino and Pearson's Test\n",
    "from scipy.stats import normaltest\n",
    "#normality test\n",
    "stat, p = normaltest(data_['FI'])\n",
    "print('Statistics=%.3f, p=%.3f' % (stat, p))\n",
    "# interpret\n",
    "alpha = 0.05\n",
    "if p > alpha:\n",
    "    print('Sample looks Gaussian (fail to reject H0)')\n",
    "else:\n",
    "    print('Sample does not look Gaussian (reject H0)')\n",
    "\n",
    "from scipy.stats import anderson\n",
    "# normality test\n",
    "result = anderson(data_['FI'])\n",
    "print('Statistic: %.3f' % result.statistic)\n",
    "p = 0\n",
    "for i in range(len(result.critical_values)):\n",
    "    sl, cv = result.significance_level[i], result.critical_values[i]\n",
    "    if result.statistic < result.critical_values[i]:\n",
    "        print('%.3f: %.3f, data looks normal (fail to reject H0)' % (sl, cv))\n",
    "    else:\n",
    "        print('%.3f: %.3f, data does not look normal (reject H0)' % (sl, cv))\n",
    "# IQR Method\n",
    "# Identify outliers that are a factor of k of the IQR below the 25th perc or above 75th perc\n",
    "# A factor of k of 3 or more can be used to identify values that are extreme outliers\n",
    "# On a boxplot these limits are the whiskers at the end of the boxplot lines. (Outliers are dots)\n",
    "\n",
    "#Calculate IQR\n",
    "q25, q75 = np.percentile(data_['weeklyave_FI'], 25) , np.percentile(data_['weeklyave_FI'], 75)\n",
    "iqr = q75 - q25\n",
    "print('Q25 = %.3f' % (q25))\n",
    "print('Q75 = %.3f' % (q75))\n",
    "print('IQR = %.3f' % (iqr))\n",
    "Q25 = 37.468\n",
    "Q75 = 55.957\n",
    "IQR = 18.490\n",
    "#Calculate the outlier cutoff\n",
    "cut_off = iqr * 1.5\n",
    "lower, upper = q25 - cut_off, q75 + cut_off\n",
    "\n",
    "#Identify outliers\n",
    "outliers = data_[(data_.weeklyave_FI > upper) | (data_.weeklyave_FI < lower)]\n",
    "#Remove outliers\n",
    "data_cleaned = data_[(data_.weeklyave_FI <= upper) & (data_.weeklyave_FI >= lower)]\n",
    "print('Total observations: %d' % len(data_))\n",
    "\n",
    "print('Identified outliers: %d' % len(outliers))\n",
    "print('Non-outlier observations: %d' % len(data_cleaned))\n"
   ]
  },
  {
   "cell_type": "markdown",
   "metadata": {},
   "source": [
    "### Data Export"
   ]
  },
  {
   "cell_type": "code",
   "execution_count": null,
   "metadata": {},
   "outputs": [],
   "source": [
    "fileName = file.split(\"/\")[1]\n",
    "fileName = fileName.split(\".\")[0]\n",
    "data_cleaned.to_csv('SQL_extracted datasets/Formatted_data/' +fileName + 'GENETIC.csv', index = False)"
   ]
  }
 ],
 "metadata": {
  "kernelspec": {
   "display_name": "Python 3.9.8 64-bit",
   "language": "python",
   "name": "python3"
  },
  "language_info": {
   "codemirror_mode": {
    "name": "ipython",
    "version": 3
   },
   "file_extension": ".py",
   "mimetype": "text/x-python",
   "name": "python",
   "nbconvert_exporter": "python",
   "pygments_lexer": "ipython3",
   "version": "3.9.8"
  },
  "orig_nbformat": 4,
  "vscode": {
   "interpreter": {
    "hash": "aee8b7b246df8f9039afb4144a1f6fd8d2ca17a180786b69acc140d282b71a49"
   }
  }
 },
 "nbformat": 4,
 "nbformat_minor": 2
}
